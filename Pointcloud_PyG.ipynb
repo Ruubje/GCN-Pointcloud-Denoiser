{
 "cells": [
  {
   "cell_type": "markdown",
   "metadata": {},
   "source": [
    "# Pointcloud version including PyTorch Geometric\n",
    "This notebook tests the functionality of the second implemenation of the GCN. Here we implement both a pointcloud version and a mesh version seperately on every component level. This version gets the help from PyTorch Geometric, which should speedup the application and make programming easier. The Mesh version is there to justify this version as a reimplementation of the paper and the pointcloud version is the purpose of the research.\n",
    "## Structure Notebook\n",
    "The following secions will be here to justify the implementation of the second verion.\n",
    "- Pre-processing data\n",
    "    - Create artificial noise (Store Ground Truth)\n",
    "    - Patch selection\n",
    "    - Patch alignment (Classify Patch)\n",
    "    - Converting patch to graph\n",
    "    - Storing graph in file\n",
    "- Training GCN\n",
    "    - Defining input and output for network\n",
    "    - Create GCN architecture\n",
    "        - Must be modifiable! (Create hyperparameters)\n",
    "    - Selecting and loading data\n",
    "        - Select based on object, noise level and patch class\n",
    "        - Select based on training, validation and test group\n",
    "    - Train network\n",
    "        - Create log structure to view training process.\n",
    "        - Be able to start and stop training.\n",
    "        - Save and log training progress, such that is can be fully recreated (Per training session log: Architecture, Model weights, Hyperparameter settings, Epochs trained, Trainingset per Epoch, )\n",
    "        - LOG EVERYTHING\n",
    "- Post-processing data\n",
    "    - Create pipeline for pre-processing data and input the network without storing data in files.\n",
    "    - Reverse patch alignment of network output.\n",
    "    - Create Vertex updating based on normals.\n",
    "    - Create normal refinement (bilateral filter).\n",
    "# Settings"
   ]
  },
  {
   "cell_type": "code",
   "execution_count": 13,
   "metadata": {},
   "outputs": [],
   "source": [
    "from Pointcloud.Modules.Noise import Noise\n",
    "from Pointcloud.Modules.Object import Pointcloud, Mesh, HelperFunctions\n",
    "from Pointcloud.Modules.PatchGenerator import PatchGenerator\n",
    "from Pointcloud.Modules.Visualize import visualize_coloring\n",
    "\n",
    "from copy import deepcopy\n",
    "from igl import barycenter as igl_barycenter, bounding_box_diagonal as igl_bounding_box_diagonal, triangle_triangle_adjacency as igl_triangle_triangle_adjacency, avg_edge_length as igl_avg_edge_length\n",
    "from meshplot import plot as mp_plot\n",
    "from gravomg.util import neighbors_from_stiffness\n",
    "import numpy as np\n",
    "from numpy import random as np_random\n",
    "from pathlib import Path\n",
    "import matplotlib.pyplot as plt\n",
    "from robust_laplacian import point_cloud_laplacian\n",
    "from scipy.spatial import Delaunay, KDTree\n",
    "from sklearn.preprocessing import normalize as sklearn_preprocessing_normalize\n",
    "from timeit import timeit\n",
    "import torch_geometric as pyg\n",
    "from torch_cluster import knn_graph\n",
    "import torch\n",
    "\n",
    "EXAMPLE_OBJ_FILE = \"common-3d-test-models-master/stanford-bunny.obj\""
   ]
  },
  {
   "cell_type": "markdown",
   "metadata": {},
   "source": [
    "# Pre-processing\n",
    "In this section we show that all pre-processing steps are taken in the correct fashion.\n",
    "## Loading (and calculating) object data\n",
    "In this section we show that loading the example mesh can be done and that the object can be viewed as pointcloud and as mesh (with normals per face and normals per vertex)"
   ]
  },
  {
   "cell_type": "code",
   "execution_count": 2,
   "metadata": {},
   "outputs": [],
   "source": [
    "pointcloud = Pointcloud(EXAMPLE_OBJ_FILE)\n",
    "mesh = Mesh(EXAMPLE_OBJ_FILE)"
   ]
  },
  {
   "cell_type": "code",
   "execution_count": 3,
   "metadata": {},
   "outputs": [
    {
     "data": {
      "application/vnd.jupyter.widget-view+json": {
       "model_id": "4ef65b3d379840478cac311d7d91e3e4",
       "version_major": 2,
       "version_minor": 0
      },
      "text/plain": [
       "Renderer(camera=PerspectiveCamera(children=(DirectionalLight(color='white', intensity=0.6, position=(-0.016840…"
      ]
     },
     "metadata": {},
     "output_type": "display_data"
    },
    {
     "data": {
      "application/vnd.jupyter.widget-view+json": {
       "model_id": "e3b03d9d91d24912a8a562267e60e6f8",
       "version_major": 2,
       "version_minor": 0
      },
      "text/plain": [
       "Renderer(camera=PerspectiveCamera(children=(DirectionalLight(color='white', intensity=0.6, position=(-0.016840…"
      ]
     },
     "metadata": {},
     "output_type": "display_data"
    }
   ],
   "source": [
    "normal_display_length = igl_bounding_box_diagonal(pointcloud.v) / 100\n",
    "starts = pointcloud.v\n",
    "ends = starts + pointcloud.vn * normal_display_length\n",
    "pplot = mp_plot(starts, shading={\"point_size\": 0.005})\n",
    "pplot.add_lines(starts, ends)\n",
    "barycenters = igl_barycenter(mesh.v, mesh.f)\n",
    "mplot = mp_plot(mesh.v, mesh.f)\n",
    "_ = mplot.add_lines(barycenters, barycenters + mesh.fn * normal_display_length)"
   ]
  },
  {
   "cell_type": "markdown",
   "metadata": {},
   "source": [
    "## Defining neighbourhoods for pointclouds\n",
    "There are 2 methods implemented for neighbourhood definitions. Creating a KNN graph on the pointcloud and creating a robust laplacian. The second method is a lot slower then the first method, but the second method probably represents a better neighbourhood definition."
   ]
  },
  {
   "cell_type": "code",
   "execution_count": 4,
   "metadata": {},
   "outputs": [],
   "source": [
    "knn_pointcloud_graph = pointcloud.toGraph(0)\n",
    "robust_pointcloud_graph = pointcloud.toGraph(1)\n",
    "knn_edges = knn_pointcloud_graph.edge_index\n",
    "robust_edges = robust_pointcloud_graph.edge_index"
   ]
  },
  {
   "cell_type": "markdown",
   "metadata": {},
   "source": [
    "In the image below, the black edges are created by the knn neighbourhood for k=12 and the blue edges are created by the robust laplacian method. 3 visualizations are shown to illustrate the difference of the assignment of the edges."
   ]
  },
  {
   "cell_type": "code",
   "execution_count": 5,
   "metadata": {},
   "outputs": [
    {
     "data": {
      "application/vnd.jupyter.widget-view+json": {
       "model_id": "90805192f48749068a6555d111977ead",
       "version_major": 2,
       "version_minor": 0
      },
      "text/plain": [
       "Renderer(camera=PerspectiveCamera(children=(DirectionalLight(color='white', intensity=0.6, position=(0.1276394…"
      ]
     },
     "metadata": {},
     "output_type": "display_data"
    }
   ],
   "source": [
    "distance = (igl_bounding_box_diagonal(pointcloud.v)**2/3)**0.5\n",
    "num_v = pointcloud.v.shape[0]\n",
    "vertices = np.r_[pointcloud.v, pointcloud.v + distance*np.array([1, 0, 0]), pointcloud.v + distance*np.array([2, 0, 0])]\n",
    "plot = mp_plot(vertices, shading={\"point_color\": \"green\", \"point_size\": 0.00000001})\n",
    "plot.add_lines(vertices[knn_edges[0]], vertices[knn_edges[1]], shading={\"line_color\": \"black\", \"line_width\": 0.00001})\n",
    "plot.add_lines(vertices[robust_edges[0]+num_v], vertices[robust_edges[1]+num_v], shading={\"line_color\": \"blue\", \"line_width\": 0.00001})\n",
    "plot.add_lines(vertices[knn_edges[0]+2*num_v], vertices[knn_edges[1]+2*num_v], shading={\"line_color\": \"black\", \"line_width\": 0.00001})\n",
    "_ = plot.add_lines(vertices[robust_edges[0]+2*num_v], vertices[robust_edges[1]+2*num_v], shading={\"line_color\": \"blue\", \"line_width\": 0.00001})"
   ]
  },
  {
   "cell_type": "markdown",
   "metadata": {},
   "source": [
    "The same can be done for the mesh variant. In this case, faces are graph nodes and if 2 faces are connected to each other, there exists an edge between the 2 nodes representing the faces."
   ]
  },
  {
   "cell_type": "code",
   "execution_count": 6,
   "metadata": {},
   "outputs": [
    {
     "data": {
      "application/vnd.jupyter.widget-view+json": {
       "model_id": "dd893345083f4637971495261f10c6ed",
       "version_major": 2,
       "version_minor": 0
      },
      "text/plain": [
       "Renderer(camera=PerspectiveCamera(children=(DirectionalLight(color='white', intensity=0.6, position=(-0.016837…"
      ]
     },
     "metadata": {},
     "output_type": "display_data"
    }
   ],
   "source": [
    "mesh_graph = mesh.toGraph()\n",
    "# plot = mp_plot(mesh.v, mesh.f, shading={\"wireframe\": \"true\"})\n",
    "plot = mp_plot(mesh_graph.pos.numpy(), shading={\"point_size\": 0.000000001})\n",
    "vertices = mesh_graph.pos\n",
    "edges = mesh_graph.edge_index\n",
    "_ = plot.add_lines(vertices[edges[0]], vertices[edges[1]])"
   ]
  },
  {
   "cell_type": "markdown",
   "metadata": {},
   "source": [
    "## Create artificial noise (Store Ground Truth)\n",
    "Below you can generate noise for the pointcloud and for the mesh. The 3 variables at the top determine what kind of noise it will be."
   ]
  },
  {
   "cell_type": "code",
   "execution_count": 7,
   "metadata": {},
   "outputs": [
    {
     "data": {
      "application/vnd.jupyter.widget-view+json": {
       "model_id": "2b1edc4915d24a89b66bcc11279e8d2d",
       "version_major": 2,
       "version_minor": 0
      },
      "text/plain": [
       "Renderer(camera=PerspectiveCamera(children=(DirectionalLight(color='white', intensity=0.6, position=(-0.016836…"
      ]
     },
     "metadata": {},
     "output_type": "display_data"
    },
    {
     "data": {
      "application/vnd.jupyter.widget-view+json": {
       "model_id": "59622027052245e596f46b536eb55146",
       "version_major": 2,
       "version_minor": 0
      },
      "text/plain": [
       "Renderer(camera=PerspectiveCamera(children=(DirectionalLight(color='white', intensity=0.6, position=(-0.016881…"
      ]
     },
     "metadata": {},
     "output_type": "display_data"
    }
   ],
   "source": [
    "EXAMPLE_NOISE_LEVEL = 0.1\n",
    "EXAMPLE_NOISE_DIRECTION = 0\n",
    "EXAMPLE_NOISE_TYPE = 0\n",
    "\n",
    "pointcloud_noise = Noise(pointcloud=pointcloud)\n",
    "mesh_noise = Noise(pointcloud=mesh)\n",
    "pointcloud_noise.generateNoise(EXAMPLE_NOISE_LEVEL, noise_direction=EXAMPLE_NOISE_DIRECTION, noise_type=EXAMPLE_NOISE_TYPE)\n",
    "mesh_noise.generateNoise(EXAMPLE_NOISE_LEVEL, noise_direction=EXAMPLE_NOISE_DIRECTION, noise_type=EXAMPLE_NOISE_TYPE)\n",
    "\n",
    "_v = pointcloud.gt\n",
    "_pos = pointcloud.v\n",
    "_vn = pointcloud.vn\n",
    "x1 = np.vstack((_v, _pos))\n",
    "c1 = np.zeros((x1.shape[0],))\n",
    "c1[_v.shape[0]:] = 1\n",
    "_v = mesh.gt\n",
    "_pos = mesh.v\n",
    "_vn = mesh.vn\n",
    "x2 = np.vstack((_v, _pos))\n",
    "f2 = np.vstack((mesh.f, mesh.f + len(mesh.v)))\n",
    "c2 = np.zeros((x2.shape[0],))\n",
    "c2[_v.shape[0]:] = 1\n",
    "\n",
    "plot1 = mp_plot(x1, c=c1, shading={\"point_size\": 0.003})\n",
    "normals = _vn/500\n",
    "_ = plot1.add_lines(_v, _v+normals, shading={\"line_width\": 0.003})\n",
    "plot2 = mp_plot(x2, f2, c=c2, shading={\"point_size\": 0.003})\n",
    "normals = _vn/500\n",
    "_ = plot2.add_lines(_v, _v+normals, shading={\"line_width\": 0.003})"
   ]
  },
  {
   "cell_type": "markdown",
   "metadata": {},
   "source": [
    "Below, we will show that saving and loading a noise object will result in the same noise object."
   ]
  },
  {
   "cell_type": "code",
   "execution_count": 8,
   "metadata": {},
   "outputs": [
    {
     "name": "stdout",
     "output_type": "stream",
     "text": [
      "True\n",
      "True\n"
     ]
    }
   ],
   "source": [
    "save_filename = pointcloud_noise.saveNoise()\n",
    "_v1 = deepcopy(pointcloud_noise.object.v)\n",
    "pointcloud_noise.resetNoise()\n",
    "\n",
    "# Pointcloud has actually been reset to ground truth\n",
    "print(np.allclose(pointcloud_noise.object.v, pointcloud_noise.object.gt))\n",
    "\n",
    "pointcloud_noise.loadNoise(save_filename)\n",
    "_v2 = deepcopy(pointcloud_noise.object.v)\n",
    "\n",
    "# Pointcloud after loading is the same as when saving.\n",
    "print(np.allclose(_v1, _v2))"
   ]
  },
  {
   "cell_type": "markdown",
   "metadata": {},
   "source": [
    "## Patch Selection\n",
    "In this section, we will try to prove with visualizations that we can select patches based on a distance metric for pointclouds and meshes."
   ]
  },
  {
   "cell_type": "code",
   "execution_count": 9,
   "metadata": {},
   "outputs": [],
   "source": [
    "patchgenerator_pointcloud = PatchGenerator(pointcloud)\n",
    "patchgenerator_mesh = PatchGenerator(mesh)"
   ]
  },
  {
   "cell_type": "code",
   "execution_count": 14,
   "metadata": {},
   "outputs": [
    {
     "name": "stdout",
     "output_type": "stream",
     "text": [
      "Started collecting patches: Collecting Tworings\n",
      "Collected Tworings. Starting to collect radii\n",
      "Collected radii, starting the ball query\n",
      "Collected bearby vertices. Starting to collect nodes from vertices.\n"
     ]
    }
   ],
   "source": [
    "nodes = patchgenerator_pointcloud.toPatches()"
   ]
  },
  {
   "cell_type": "code",
   "execution_count": 15,
   "metadata": {},
   "outputs": [
    {
     "data": {
      "application/vnd.jupyter.widget-view+json": {
       "model_id": "1c6c31ceb4e94b2ba3bed51cc8d6aeeb",
       "version_major": 2,
       "version_minor": 0
      },
      "text/plain": [
       "Renderer(camera=PerspectiveCamera(children=(DirectionalLight(color='white', intensity=0.6, position=(-0.016836…"
      ]
     },
     "metadata": {},
     "output_type": "display_data"
    }
   ],
   "source": [
    "c = [nodes[5], nodes[100], nodes[800]]\n",
    "c.reverse()\n",
    "visualize_coloring(patchgenerator_pointcloud.object.g.pos.numpy(), c)"
   ]
  },
  {
   "cell_type": "code",
   "execution_count": 17,
   "metadata": {},
   "outputs": [
    {
     "data": {
      "text/plain": [
       "dtype('O')"
      ]
     },
     "execution_count": 17,
     "metadata": {},
     "output_type": "execute_result"
    }
   ],
   "source": []
  },
  {
   "cell_type": "code",
   "execution_count": null,
   "metadata": {},
   "outputs": [],
   "source": []
  }
 ],
 "metadata": {
  "kernelspec": {
   "display_name": "PCDenoiser",
   "language": "python",
   "name": "python3"
  },
  "language_info": {
   "codemirror_mode": {
    "name": "ipython",
    "version": 3
   },
   "file_extension": ".py",
   "mimetype": "text/x-python",
   "name": "python",
   "nbconvert_exporter": "python",
   "pygments_lexer": "ipython3",
   "version": "3.9.15"
  }
 },
 "nbformat": 4,
 "nbformat_minor": 2
}
