{
 "cells": [
  {
   "attachments": {},
   "cell_type": "markdown",
   "metadata": {},
   "source": [
    "# DGCNN trained on printed dataset\n",
    "In this notebook, we are trying to train a model on the printed_dataset from the paper. Format of the dataset is .obj files in a folder with noisy models and a folder with gt .obj files. In the first step, we want to extract which files are there."
   ]
  },
  {
   "cell_type": "code",
   "execution_count": 1,
   "metadata": {},
   "outputs": [],
   "source": [
    "import os\n",
    "import numpy as np\n",
    "\n",
    "from PatchGeneration.Modules.Mesh import *"
   ]
  },
  {
   "cell_type": "code",
   "execution_count": 2,
   "metadata": {},
   "outputs": [],
   "source": [
    "DATASET_PATH = \"./PrintedDataset\"\n",
    "NOISY_PATH = DATASET_PATH + \"/noisy\"\n",
    "GT_PATH = DATASET_PATH + \"/gt\"\n",
    "noisy_meshes = [Mesh.readFile(NOISY_PATH + \"/\" + obj) for obj in os.listdir(NOISY_PATH)]\n",
    "gt_meshes = [Mesh.readFile(GT_PATH + \"/\" + obj) for obj in os.listdir(GT_PATH)]\n"
   ]
  },
  {
   "attachments": {},
   "cell_type": "markdown",
   "metadata": {},
   "source": [
    "## Visualize some meshes\n",
    "First, we want to visualize a few meshes to see what we're dealing with!"
   ]
  },
  {
   "cell_type": "code",
   "execution_count": 7,
   "metadata": {},
   "outputs": [
    {
     "data": {
      "application/vnd.jupyter.widget-view+json": {
       "model_id": "69618230715948289e774cc08a7fed00",
       "version_major": 2,
       "version_minor": 0
      },
      "text/plain": [
       "Renderer(camera=PerspectiveCamera(children=(DirectionalLight(color='white', intensity=0.6, position=(28.493566…"
      ]
     },
     "metadata": {},
     "output_type": "display_data"
    },
    {
     "data": {
      "text/plain": [
       "<meshplot.Viewer.Viewer at 0x27114109be0>"
      ]
     },
     "execution_count": 7,
     "metadata": {},
     "output_type": "execute_result"
    }
   ],
   "source": [
    "RANDOM_MESH_INDEX = np.random.randint(len(noisy_meshes))\n",
    "example_meshes = [noisy_meshes[RANDOM_MESH_INDEX], gt_meshes[RANDOM_MESH_INDEX].copy().translate(np.array([gt_meshes[RANDOM_MESH_INDEX].getPCBoundingBox()[0], 0, 0]))]\n",
    "Mesh.mpViewMeshes(*example_meshes)"
   ]
  },
  {
   "cell_type": "code",
   "execution_count": 6,
   "metadata": {},
   "outputs": [
    {
     "name": "stdout",
     "output_type": "stream",
     "text": [
      "50002 499641\n"
     ]
    }
   ],
   "source": [
    "print(len(example_meshes[0].v), len(example_meshes[1].v))"
   ]
  },
  {
   "cell_type": "code",
   "execution_count": null,
   "metadata": {},
   "outputs": [],
   "source": []
  },
  {
   "cell_type": "code",
   "execution_count": null,
   "metadata": {},
   "outputs": [],
   "source": []
  }
 ],
 "metadata": {
  "kernelspec": {
   "display_name": "PCDenoiser",
   "language": "python",
   "name": "python3"
  },
  "language_info": {
   "codemirror_mode": {
    "name": "ipython",
    "version": 3
   },
   "file_extension": ".py",
   "mimetype": "text/x-python",
   "name": "python",
   "nbconvert_exporter": "python",
   "pygments_lexer": "ipython3",
   "version": "3.9.15"
  },
  "orig_nbformat": 4
 },
 "nbformat": 4,
 "nbformat_minor": 2
}
