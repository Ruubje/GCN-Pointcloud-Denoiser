{
 "cells": [
  {
   "cell_type": "code",
   "execution_count": 10,
   "metadata": {},
   "outputs": [],
   "source": [
    "import igl\n",
    "import meshplot as mp\n",
    "import numpy as np\n",
    "import yaml\n",
    "from yaml import CLoader as Loader\n",
    "\n",
    "def read_model(obj_path, feat_path):\n",
    "    v, _, n, f, _, ni = igl.read_obj(obj_path)\n",
    "\n",
    "    with open(feat_path) as fi:\n",
    "        feat = yaml.load(fi, Loader=Loader)\n",
    "    m = {\"vertices\": v, \"face_indices\": f, \"normals\": n, \"normal_indices\": ni, \"features\": feat}\n",
    "    return m"
   ]
  },
  {
   "cell_type": "code",
   "execution_count": 3,
   "metadata": {},
   "outputs": [
    {
     "name": "stdout",
     "output_type": "stream",
     "text": [
      "(22335, 3) (44694, 3)\n"
     ]
    },
    {
     "data": {
      "application/vnd.jupyter.widget-view+json": {
       "model_id": "1fe70550e77d4fa7b233691eeedfdaee",
       "version_major": 2,
       "version_minor": 0
      },
      "text/plain": [
       "Renderer(camera=PerspectiveCamera(children=(DirectionalLight(color='white', intensity=0.6, position=(0.0, -1.6…"
      ]
     },
     "metadata": {},
     "output_type": "display_data"
    },
    {
     "data": {
      "text/plain": [
       "<meshplot.Viewer.Viewer at 0x2107a0193a0>"
      ]
     },
     "execution_count": 3,
     "metadata": {},
     "output_type": "execute_result"
    }
   ],
   "source": [
    "v, f = igl.read_triangle_mesh(\"Object/example_object.obj\")\n",
    "print(v.shape, f.shape)\n",
    "\n",
    "mp.plot(v, c=v[:,0])"
   ]
  },
  {
   "cell_type": "code",
   "execution_count": 4,
   "metadata": {},
   "outputs": [
    {
     "data": {
      "application/vnd.jupyter.widget-view+json": {
       "model_id": "33b5dfe7a419458f827abfd19c7c5f91",
       "version_major": 2,
       "version_minor": 0
      },
      "text/plain": [
       "Renderer(camera=PerspectiveCamera(children=(DirectionalLight(color='white', intensity=0.6, position=(0.0, -1.6…"
      ]
     },
     "metadata": {},
     "output_type": "display_data"
    },
    {
     "data": {
      "text/plain": [
       "<meshplot.Viewer.Viewer at 0x2107d0562b0>"
      ]
     },
     "execution_count": 4,
     "metadata": {},
     "output_type": "execute_result"
    }
   ],
   "source": [
    "nf = igl.per_face_normals(v, f, np.zeros(3))\n",
    "\n",
    "mp.plot(v, f, c=np.abs(nf), shading={\"roughness\": 1.0})"
   ]
  },
  {
   "cell_type": "code",
   "execution_count": 6,
   "metadata": {},
   "outputs": [
    {
     "data": {
      "application/vnd.jupyter.widget-view+json": {
       "model_id": "d20af48924ee415385eb1c3fcfb281fc",
       "version_major": 2,
       "version_minor": 0
      },
      "text/plain": [
       "Renderer(camera=PerspectiveCamera(children=(DirectionalLight(color='white', intensity=0.6, position=(0.0, -1.6…"
      ]
     },
     "metadata": {},
     "output_type": "display_data"
    },
    {
     "data": {
      "text/plain": [
       "1"
      ]
     },
     "execution_count": 6,
     "metadata": {},
     "output_type": "execute_result"
    }
   ],
   "source": [
    "nv = igl.per_vertex_normals(v, f)\n",
    "\n",
    "p = mp.plot(v, c=np.abs(nv), shading={\"point_size\":2})\n",
    "p.add_lines(v, v + nv * 5e-1)"
   ]
  },
  {
   "cell_type": "code",
   "execution_count": 13,
   "metadata": {},
   "outputs": [
    {
     "name": "stdout",
     "output_type": "stream",
     "text": [
      "(22335, 3) (44694, 3)\n",
      "['curves', 'surfaces']\n"
     ]
    }
   ],
   "source": [
    "m = read_model('Object/example_object.obj', 'Object/example_features.yml')\n",
    "v, f, feat = m['vertices'], m['face_indices'], m['features']\n",
    "print(v.shape, f.shape)\n",
    "print(list(feat.keys()))"
   ]
  },
  {
   "cell_type": "code",
   "execution_count": 25,
   "metadata": {},
   "outputs": [
    {
     "data": {
      "application/vnd.jupyter.widget-view+json": {
       "model_id": "a5f2df6aa0774acc8f854b8bba74e58c",
       "version_major": 2,
       "version_minor": 0
      },
      "text/plain": [
       "Renderer(camera=PerspectiveCamera(children=(DirectionalLight(color='white', intensity=0.6, position=(0.0, -1.6…"
      ]
     },
     "metadata": {},
     "output_type": "display_data"
    },
    {
     "data": {
      "text/plain": [
       "1"
      ]
     },
     "execution_count": 25,
     "metadata": {},
     "output_type": "execute_result"
    }
   ],
   "source": [
    "nv = igl.per_vertex_normals(v, f)\n",
    "p = mp.plot(v, f, c=np.abs(nv), return_plot=True)\n",
    "p.add_lines(m['vertices'], m['vertices'] + nv, shading={'line_color': 'black'})\n"
   ]
  },
  {
   "cell_type": "code",
   "execution_count": 26,
   "metadata": {},
   "outputs": [],
   "source": [
    "import math\n",
    "import wildmeshing as wm\n",
    "import polyfempy as pf"
   ]
  },
  {
   "cell_type": "code",
   "execution_count": 27,
   "metadata": {},
   "outputs": [
    {
     "data": {
      "application/vnd.jupyter.widget-view+json": {
       "model_id": "5d1d865ba5f1468fb3df094d1af48bfc",
       "version_major": 2,
       "version_minor": 0
      },
      "text/plain": [
       "Renderer(camera=PerspectiveCamera(children=(DirectionalLight(color='white', intensity=0.6, position=(0.0, -1.6…"
      ]
     },
     "metadata": {},
     "output_type": "display_data"
    },
    {
     "data": {
      "text/plain": [
       "<meshplot.Viewer.Viewer at 0x2107e543f40>"
      ]
     },
     "execution_count": 27,
     "metadata": {},
     "output_type": "execute_result"
    }
   ],
   "source": [
    "V, F, = igl.read_triangle_mesh('Object/example_object.obj')\n",
    "mp.plot(V, F, shading={'wireframe': True})"
   ]
  },
  {
   "cell_type": "code",
   "execution_count": 29,
   "metadata": {},
   "outputs": [],
   "source": [
    "tetra = wm.Tetrahedralizer(stop_quality=30)\n",
    "tetra.set_mesh(V, F)\n",
    "tetra.tetrahedralize()"
   ]
  },
  {
   "cell_type": "code",
   "execution_count": 30,
   "metadata": {},
   "outputs": [
    {
     "data": {
      "application/vnd.jupyter.widget-view+json": {
       "model_id": "fed53f486c4f47cf838e57852640e94a",
       "version_major": 2,
       "version_minor": 0
      },
      "text/plain": [
       "Renderer(camera=PerspectiveCamera(children=(DirectionalLight(color='white', intensity=0.6, position=(0.0150070…"
      ]
     },
     "metadata": {},
     "output_type": "display_data"
    },
    {
     "data": {
      "text/plain": [
       "<meshplot.Viewer.Viewer at 0x21003a680a0>"
      ]
     },
     "execution_count": 30,
     "metadata": {},
     "output_type": "execute_result"
    }
   ],
   "source": [
    "TV, TT = tetra.get_tet_mesh()\n",
    "mp.plot(TV, TT, shading={\"wireframe\": True})"
   ]
  },
  {
   "cell_type": "code",
   "execution_count": 31,
   "metadata": {},
   "outputs": [],
   "source": [
    "minn = np.min(V, axis=0)\n",
    "maxx = np.max(V, axis=0)\n",
    "center = (minn + maxx)/2\n",
    "\n",
    "def sideset(p):\n",
    "    if abs(p[2] - minn[2]) < 0.5:\n",
    "        if p[1] > center[1]:\n",
    "            return 2\n",
    "        else:\n",
    "            return 3\n",
    "    return 1"
   ]
  },
  {
   "cell_type": "code",
   "execution_count": 36,
   "metadata": {},
   "outputs": [
    {
     "ename": "ValueError",
     "evalue": "The truth value of an array with more than one element is ambiguous. Use a.any() or a.all()",
     "output_type": "error",
     "traceback": [
      "\u001b[1;31m---------------------------------------------------------------------------\u001b[0m",
      "\u001b[1;31mValueError\u001b[0m                                Traceback (most recent call last)",
      "Cell \u001b[1;32mIn[36], line 1\u001b[0m\n\u001b[1;32m----> 1\u001b[0m \u001b[39mprint\u001b[39m(sideset(V))\n\u001b[0;32m      2\u001b[0m col \u001b[39m=\u001b[39m np\u001b[39m.\u001b[39mzeros_like(s); col[s\u001b[39m==\u001b[39m\u001b[39m2\u001b[39m] \u001b[39m=\u001b[39m \u001b[39m2\u001b[39m; col[s\u001b[39m==\u001b[39m\u001b[39m3\u001b[39m] \u001b[39m=\u001b[39m \u001b[39m3\u001b[39m\n\u001b[0;32m      3\u001b[0m mp\u001b[39m.\u001b[39mplot(ps, ts, col)\n",
      "Cell \u001b[1;32mIn[31], line 6\u001b[0m, in \u001b[0;36msideset\u001b[1;34m(p)\u001b[0m\n\u001b[0;32m      5\u001b[0m \u001b[39mdef\u001b[39;00m \u001b[39msideset\u001b[39m(p):\n\u001b[1;32m----> 6\u001b[0m     \u001b[39mif\u001b[39;00m \u001b[39mabs\u001b[39;49m(p[\u001b[39m2\u001b[39;49m] \u001b[39m-\u001b[39;49m minn[\u001b[39m2\u001b[39;49m]) \u001b[39m<\u001b[39;49m \u001b[39m0.5\u001b[39;49m:\n\u001b[0;32m      7\u001b[0m         \u001b[39mif\u001b[39;00m p[\u001b[39m1\u001b[39m] \u001b[39m>\u001b[39m center[\u001b[39m1\u001b[39m]:\n\u001b[0;32m      8\u001b[0m             \u001b[39mreturn\u001b[39;00m \u001b[39m2\u001b[39m\n",
      "\u001b[1;31mValueError\u001b[0m: The truth value of an array with more than one element is ambiguous. Use a.any() or a.all()"
     ]
    }
   ],
   "source": [
    "print(sideset(V))\n",
    "col = np.zeros_like(s); col[s==2] = 2; col[s==3] = 3\n",
    "mp.plot(ps, ts, col)"
   ]
  },
  {
   "cell_type": "code",
   "execution_count": null,
   "metadata": {},
   "outputs": [],
   "source": []
  }
 ],
 "metadata": {
  "kernelspec": {
   "display_name": "Python 3.11.0 ('PCDenoiser')",
   "language": "python",
   "name": "python3"
  },
  "language_info": {
   "codemirror_mode": {
    "name": "ipython",
    "version": 3
   },
   "file_extension": ".py",
   "mimetype": "text/x-python",
   "name": "python",
   "nbconvert_exporter": "python",
   "pygments_lexer": "ipython3",
   "version": "3.9.15"
  },
  "orig_nbformat": 4,
  "vscode": {
   "interpreter": {
    "hash": "d02c05bb9a2f0e48ac7fbf9e56e881bf5b66173a1002bfa0ac67471e64e49a59"
   }
  }
 },
 "nbformat": 4,
 "nbformat_minor": 2
}
