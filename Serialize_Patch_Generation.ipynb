{
 "cells": [
  {
   "cell_type": "code",
   "execution_count": 1,
   "metadata": {},
   "outputs": [],
   "source": [
    "from PatchGeneration.Modules.Mesh import *"
   ]
  },
  {
   "cell_type": "code",
   "execution_count": 2,
   "metadata": {},
   "outputs": [],
   "source": [
    "mesh = Mesh.readFile('./PatchGeneration/Object/example_object.obj')"
   ]
  },
  {
   "cell_type": "code",
   "execution_count": 3,
   "metadata": {},
   "outputs": [
    {
     "name": "stdout",
     "output_type": "stream",
     "text": [
      "(22335, 3)\n"
     ]
    }
   ],
   "source": [
    "vertices = mesh.getVertices()\n",
    "print(vertices.shape)"
   ]
  },
  {
   "cell_type": "code",
   "execution_count": 4,
   "metadata": {},
   "outputs": [
    {
     "name": "stdout",
     "output_type": "stream",
     "text": [
      "Row-wise unique: [[ 1.  2.  3.]\n",
      " [ 1.  3. nan]]\n",
      "Row-wise union: [[ 1.  2.  3.  4. nan nan]\n",
      " [ 1.  3.  5. nan nan nan]]\n",
      "[[ 1.  2.  3.  4.]\n",
      " [ 1.  3.  5. nan]]\n"
     ]
    }
   ],
   "source": [
    "def rowwise_unique(x):\n",
    "    unique = np.unique(x)\n",
    "    correct_size = np.empty(x.shape)\n",
    "    correct_size.fill(np.nan)\n",
    "    correct_size[:len(unique)] = unique\n",
    "    return correct_size\n",
    "\n",
    "example = np.array([[1, 3, 2], [1, 1, 3]])\n",
    "example2 = np.array([[1, 3, 4], [1, 1, 5]])\n",
    "unique = np.apply_along_axis(rowwise_unique, 1, example)\n",
    "union = np.apply_along_axis(rowwise_unique, 1, np.concatenate((example, example2), axis=1))\n",
    "print(f\"Row-wise unique: {unique}\")\n",
    "print(f\"Row-wise union: {union}\")\n",
    "print(union[:,~np.all(np.isnan(union), axis=0)])\n"
   ]
  },
  {
   "cell_type": "code",
   "execution_count": 5,
   "metadata": {},
   "outputs": [],
   "source": [
    "ring = 2\n",
    "selfk = 4\n",
    "\n",
    "# (face_index, edge_neighbor_index) -> face_index\n",
    "f2f = mesh.f2f\n",
    "\n",
    "# (face_index, ring_neighbor_index) -> face_index\n",
    "result = np.arange(len(mesh.f)).reshape((len(mesh.f), 1))\n",
    "for _ in range(ring):\n",
    "    # (face_index, found_neighbors_index) -> face_index\n",
    "    nb = f2f[result.astype(int)].reshape((len(mesh.f), -1))\n",
    "    concat = np.concatenate((result, nb), axis=1)\n",
    "    unique = np.apply_along_axis(rowwise_unique, 1, concat)\n",
    "    result = unique[:, ~np.all(np.isnan(unique), axis=0)]\n",
    "\n",
    "mask = np.isnan(result)\n",
    "result[mask] = 0\n",
    "nhs = np.ma.array(result, mask=mask)\n",
    "areas = mesh.getAreas(nhs)\n",
    "avg_tworing_area = np.sum(areas, axis=1) / (nhs.shape[1] - nhs.mask.sum(1))\n",
    "r = selfk * avg_tworing_area ** 0.5\n",
    "centers = np.average(mesh.getVertices()[mesh.f], axis=-2)\n",
    "\n",
    "def getFacesInRanges(mesh, centers, ranges):\n",
    "    translated = mesh.getVertices()[None] - centers[:, None]\n",
    "    dist = np.linalg.norm(translated, axis=-1)\n",
    "    vm = dist < ranges[:, None]\n",
    "    print(vm.shape)\n",
    "    vertices = np.arange(vm.shape[0])[vm]\n",
    "    faces = mesh.getTrianglesOfVertices(vertices)\n",
    "    return faces\n",
    "\n",
    "faces_in_range = getFacesInRanges(mesh, centers, r)\n",
    "MAX_QUEUE_LENGTH = 128\n",
    "\n",
    "# (vertex_index, coordinate_index -> coordinate_value)\n",
    "v = mesh.getVertices()\n",
    "center_face_index = 0 # Trivial\n",
    " # (vertex_index, coordinate_index -> coordinate_value)[(face_index, corner_index -> vertex_index)] =\n",
    " # (face_index, corner_index, coordinate_index -> coordinate_value)\n",
    "centers = v[mesh.f]\n",
    "# (face_index, element_index) -> face_index\n",
    "faces_in_range = np.full((len(mesh.f), MAX_QUEUE_LENGTH), np.nan)\n",
    "faces_in_range[:, 0] = np.arange(len(mesh.f))\n",
    "\n",
    "# (face_index, element_index) -> face_index\n",
    "faces_to_check = faces_in_range.copy()\n",
    "while np.isnan(faces_to_check).argmax(axis=1).sum() > 0:\n",
    "    # Pop faces_to_check\n",
    "    current_faces_to_check = faces_to_check[:, 0].astype(int)\n",
    "    faces_to_check[:, :-1] = faces_to_check[:, 1:]\n",
    "    faces_to_check[:, -1] = np.nan\n",
    "    # (face_index, neighbor_index) -> face_index[(face_index) -> face_index]\n",
    "    # (face_index, neighbor_index) -> face_index\n",
    "    adjacent_faces = mesh.f2f[current_faces_to_check]\n",
    "    # Remove faces that are already checked / in range\n",
    "    mark_to_remove = (adjacent_faces[..., None] == faces_in_range[:, None]).sum(-1).astype(bool)\n",
    "    new_adjacent_faces = np.ma.array(adjacent_faces, mask=mark_to_remove)\n",
    "    # Remove faces that are out of range\n",
    "    # indexing: (vertex_index, coordinate_index -> coordinate_value)[(face_index, corner_index -> vertex_index)[(face_index, neighbor_index -> face_index)]] =\n",
    "    # (vertex_index, coordinate_index -> coordinate_value)[face_index, neighbor_index, corner_index -> vertex_index] = \n",
    "    # (face_index, neighbor_index, corner_index, coordinate_index -> coordinate_value)\n",
    "    # centers: (face_index, corner_index, coordinate_index -> coordinate_value)\n",
    "    # dist: (center_face_index, neighbor_index, corner_index, coordinate_index -> coordinate_value)\n",
    "    dist = np.linalg.norm(v[mesh.f[new_adjacent_faces]] - centers[:, None], axis=3)\n",
    "    # faces_to_append = np.delete(unique_adjacent_faces, np.where(np.any(dist > range, axis=1)))\n",
    "    # faces_in_range = np.append(faces_in_range, faces_to_append)\n",
    "    # faces_to_check = faces_to_append\n",
    "# patch = self.mesh.createPatch(faces_in_range, fi)\n",
    "# return patch"
   ]
  },
  {
   "cell_type": "code",
   "execution_count": null,
   "metadata": {},
   "outputs": [
    {
     "data": {
      "text/plain": [
       "(20, 10, 3)"
      ]
     },
     "execution_count": 42,
     "metadata": {},
     "output_type": "execute_result"
    }
   ],
   "source": [
    "_v = np.random.rand(10, 3)\n",
    "_c = np.random.rand(20, 3)\n",
    "(_v[None]-_c[:, None]).shape\n"
   ]
  },
  {
   "cell_type": "code",
   "execution_count": null,
   "metadata": {},
   "outputs": [],
   "source": []
  }
 ],
 "metadata": {
  "kernelspec": {
   "display_name": "PCDenoiser",
   "language": "python",
   "name": "python3"
  },
  "language_info": {
   "codemirror_mode": {
    "name": "ipython",
    "version": 3
   },
   "file_extension": ".py",
   "mimetype": "text/x-python",
   "name": "python",
   "nbconvert_exporter": "python",
   "pygments_lexer": "ipython3",
   "version": "3.9.15"
  },
  "orig_nbformat": 4
 },
 "nbformat": 4,
 "nbformat_minor": 2
}
