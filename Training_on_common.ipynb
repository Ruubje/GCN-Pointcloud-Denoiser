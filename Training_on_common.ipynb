{
 "cells": [
  {
   "attachments": {},
   "cell_type": "markdown",
   "metadata": {},
   "source": [
    "# Train model on common_3d_test_models\n",
    "The idea is to train a DGCNN on the objects of the common_3d_test_models.\n",
    "First, we preprocess all models to create patch files and then we train the network on the files."
   ]
  },
  {
   "cell_type": "code",
   "execution_count": 1,
   "metadata": {},
   "outputs": [],
   "source": [
    "import numpy as np\n",
    "import scipy.stats as stats\n",
    "import igl\n",
    "\n",
    "from PatchGeneration.Modules.Mesh import *\n",
    "from PatchGeneration.Modules.PatchCollector import *"
   ]
  },
  {
   "cell_type": "code",
   "execution_count": 7,
   "metadata": {},
   "outputs": [],
   "source": [
    "obj_dir = \"./common-3d-test-models-master\"\n",
    "corrupted_files = np.array([\"beast.obj\", \"suzanne.obj\"])\n",
    "filenames = np.array(os.listdir(obj_dir))\n",
    "filenames = np.setdiff1d(filenames, corrupted_files)\n",
    "filenames = filenames[np.char.endswith(filenames, \".obj\")]\n",
    "meshes = np.array([Mesh.readFile(f\"{obj_dir}/{filename}\") for filename in filenames])"
   ]
  },
  {
   "attachments": {},
   "cell_type": "markdown",
   "metadata": {},
   "source": [
    "Filter out outliers with too little or too much vertices."
   ]
  },
  {
   "cell_type": "code",
   "execution_count": 8,
   "metadata": {},
   "outputs": [
    {
     "name": "stdout",
     "output_type": "stream",
     "text": [
      "2 meshes have been filtered out, because they have too little or too many vertices\n"
     ]
    }
   ],
   "source": [
    "sizes = np.array([len(mesh.getVertices()) for mesh in meshes])\n",
    "iqr = stats.iqr(sizes)\n",
    "median = np.median(sizes)\n",
    "thresholds = np.logical_or(sizes > median + 2 * iqr, sizes < median - 2 * iqr)\n",
    "obj_set = meshes[np.logical_not(thresholds)]\n",
    "filenames = filenames[np.logical_not(thresholds)]\n",
    "print(f\"{thresholds.sum()} meshes have been filtered out, because they have too little or too many vertices\")"
   ]
  },
  {
   "attachments": {},
   "cell_type": "markdown",
   "metadata": {},
   "source": [
    "For every selected model, create noise and save it as .obj files."
   ]
  },
  {
   "cell_type": "code",
   "execution_count": 11,
   "metadata": {},
   "outputs": [
    {
     "name": "stdout",
     "output_type": "stream",
     "text": [
      "Written ./common-3d-test-models-master/Generated_Noise/alligator_1.obj\n",
      "Written ./common-3d-test-models-master/Generated_Noise/alligator_2.obj\n",
      "Written ./common-3d-test-models-master/Generated_Noise/alligator_3.obj\n",
      "Written ./common-3d-test-models-master/Generated_Noise/armadillo_1.obj\n",
      "Written ./common-3d-test-models-master/Generated_Noise/armadillo_2.obj\n",
      "Written ./common-3d-test-models-master/Generated_Noise/armadillo_3.obj\n",
      "Written ./common-3d-test-models-master/Generated_Noise/beetle-alt_1.obj\n",
      "Written ./common-3d-test-models-master/Generated_Noise/beetle-alt_2.obj\n",
      "Written ./common-3d-test-models-master/Generated_Noise/beetle-alt_3.obj\n",
      "Written ./common-3d-test-models-master/Generated_Noise/beetle_1.obj\n",
      "Written ./common-3d-test-models-master/Generated_Noise/beetle_2.obj\n",
      "Written ./common-3d-test-models-master/Generated_Noise/beetle_3.obj\n",
      "Written ./common-3d-test-models-master/Generated_Noise/bimba_1.obj\n",
      "Written ./common-3d-test-models-master/Generated_Noise/bimba_2.obj\n",
      "Written ./common-3d-test-models-master/Generated_Noise/bimba_3.obj\n",
      "Written ./common-3d-test-models-master/Generated_Noise/cheburashka_1.obj\n",
      "Written ./common-3d-test-models-master/Generated_Noise/cheburashka_2.obj\n",
      "Written ./common-3d-test-models-master/Generated_Noise/cheburashka_3.obj\n",
      "Written ./common-3d-test-models-master/Generated_Noise/cow_1.obj\n",
      "Written ./common-3d-test-models-master/Generated_Noise/cow_2.obj\n",
      "Written ./common-3d-test-models-master/Generated_Noise/cow_3.obj\n",
      "Written ./common-3d-test-models-master/Generated_Noise/fandisk_1.obj\n",
      "Written ./common-3d-test-models-master/Generated_Noise/fandisk_2.obj\n",
      "Written ./common-3d-test-models-master/Generated_Noise/fandisk_3.obj\n",
      "Written ./common-3d-test-models-master/Generated_Noise/happy_1.obj\n",
      "Written ./common-3d-test-models-master/Generated_Noise/happy_2.obj\n",
      "Written ./common-3d-test-models-master/Generated_Noise/happy_3.obj\n",
      "Written ./common-3d-test-models-master/Generated_Noise/homer_1.obj\n",
      "Written ./common-3d-test-models-master/Generated_Noise/homer_2.obj\n",
      "Written ./common-3d-test-models-master/Generated_Noise/homer_3.obj\n",
      "Written ./common-3d-test-models-master/Generated_Noise/horse_1.obj\n",
      "Written ./common-3d-test-models-master/Generated_Noise/horse_2.obj\n",
      "Written ./common-3d-test-models-master/Generated_Noise/horse_3.obj\n",
      "Written ./common-3d-test-models-master/Generated_Noise/lucy_1.obj\n",
      "Written ./common-3d-test-models-master/Generated_Noise/lucy_2.obj\n",
      "Written ./common-3d-test-models-master/Generated_Noise/lucy_3.obj\n",
      "Written ./common-3d-test-models-master/Generated_Noise/max-planck_1.obj\n",
      "Written ./common-3d-test-models-master/Generated_Noise/max-planck_2.obj\n",
      "Written ./common-3d-test-models-master/Generated_Noise/max-planck_3.obj\n",
      "Written ./common-3d-test-models-master/Generated_Noise/nefertiti_1.obj\n",
      "Written ./common-3d-test-models-master/Generated_Noise/nefertiti_2.obj\n",
      "Written ./common-3d-test-models-master/Generated_Noise/nefertiti_3.obj\n",
      "Written ./common-3d-test-models-master/Generated_Noise/ogre_1.obj\n",
      "Written ./common-3d-test-models-master/Generated_Noise/ogre_2.obj\n",
      "Written ./common-3d-test-models-master/Generated_Noise/ogre_3.obj\n",
      "Written ./common-3d-test-models-master/Generated_Noise/rocker-arm_1.obj\n",
      "Written ./common-3d-test-models-master/Generated_Noise/rocker-arm_2.obj\n",
      "Written ./common-3d-test-models-master/Generated_Noise/rocker-arm_3.obj\n",
      "Written ./common-3d-test-models-master/Generated_Noise/spot_1.obj\n",
      "Written ./common-3d-test-models-master/Generated_Noise/spot_2.obj\n",
      "Written ./common-3d-test-models-master/Generated_Noise/spot_3.obj\n",
      "Written ./common-3d-test-models-master/Generated_Noise/stanford-bunny_1.obj\n",
      "Written ./common-3d-test-models-master/Generated_Noise/stanford-bunny_2.obj\n",
      "Written ./common-3d-test-models-master/Generated_Noise/stanford-bunny_3.obj\n",
      "Written ./common-3d-test-models-master/Generated_Noise/teapot_1.obj\n",
      "Written ./common-3d-test-models-master/Generated_Noise/teapot_2.obj\n",
      "Written ./common-3d-test-models-master/Generated_Noise/teapot_3.obj\n",
      "Written ./common-3d-test-models-master/Generated_Noise/woody_1.obj\n",
      "Written ./common-3d-test-models-master/Generated_Noise/woody_2.obj\n",
      "Written ./common-3d-test-models-master/Generated_Noise/woody_3.obj\n"
     ]
    }
   ],
   "source": [
    "os.makedirs(f\"{obj_dir}/Generated_Noise\")\n",
    "for idx, mesh in enumerate(obj_set):\n",
    "    for noise_level in range(3):\n",
    "        noisy_mesh = mesh.copy()\n",
    "        noisy_mesh.applyGaussianNoise((1 + noise_level) * 0.1)\n",
    "        save_path = f\"{obj_dir}/Generated_Noise/{filenames[idx][:-4]}_{noise_level + 1}.obj\"\n",
    "        igl.write_obj(save_path, noisy_mesh.getVertices(), noisy_mesh.f)\n",
    "        print(f\"Written {save_path}\")"
   ]
  },
  {
   "attachments": {},
   "cell_type": "markdown",
   "metadata": {},
   "source": [
    "Calculate patches from object files in the Generated_Noise dictionary."
   ]
  },
  {
   "cell_type": "code",
   "execution_count": 14,
   "metadata": {},
   "outputs": [
    {
     "name": "stdout",
     "output_type": "stream",
     "text": [
      "./common-3d-test-models-master/Patches/alligator_1\n",
      "./common-3d-test-models-master/Patches/alligator_2\n",
      "./common-3d-test-models-master/Patches/alligator_3\n",
      "./common-3d-test-models-master/Patches/armadillo_1\n",
      "./common-3d-test-models-master/Patches/armadillo_2\n",
      "./common-3d-test-models-master/Patches/armadillo_3\n",
      "./common-3d-test-models-master/Patches/beetle-alt_1\n",
      "./common-3d-test-models-master/Patches/beetle-alt_2\n",
      "./common-3d-test-models-master/Patches/beetle-alt_3\n",
      "./common-3d-test-models-master/Patches/beetle_1\n",
      "./common-3d-test-models-master/Patches/beetle_2\n",
      "./common-3d-test-models-master/Patches/beetle_3\n",
      "./common-3d-test-models-master/Patches/bimba_1\n",
      "./common-3d-test-models-master/Patches/bimba_2\n",
      "./common-3d-test-models-master/Patches/bimba_3\n",
      "./common-3d-test-models-master/Patches/cheburashka_1\n",
      "./common-3d-test-models-master/Patches/cheburashka_2\n",
      "./common-3d-test-models-master/Patches/cheburashka_3\n",
      "./common-3d-test-models-master/Patches/cow_1\n",
      "./common-3d-test-models-master/Patches/cow_2\n",
      "./common-3d-test-models-master/Patches/cow_3\n",
      "./common-3d-test-models-master/Patches/fandisk_1\n",
      "./common-3d-test-models-master/Patches/fandisk_2\n",
      "./common-3d-test-models-master/Patches/fandisk_3\n",
      "./common-3d-test-models-master/Patches/happy_1\n",
      "./common-3d-test-models-master/Patches/happy_2\n",
      "./common-3d-test-models-master/Patches/happy_3\n",
      "./common-3d-test-models-master/Patches/homer_1\n",
      "./common-3d-test-models-master/Patches/homer_2\n",
      "./common-3d-test-models-master/Patches/homer_3\n",
      "./common-3d-test-models-master/Patches/horse_1\n",
      "./common-3d-test-models-master/Patches/horse_2\n",
      "./common-3d-test-models-master/Patches/horse_3\n",
      "./common-3d-test-models-master/Patches/lucy_1\n",
      "./common-3d-test-models-master/Patches/lucy_2\n",
      "./common-3d-test-models-master/Patches/lucy_3\n",
      "./common-3d-test-models-master/Patches/max-planck_1\n",
      "./common-3d-test-models-master/Patches/max-planck_2\n",
      "./common-3d-test-models-master/Patches/max-planck_3\n",
      "./common-3d-test-models-master/Patches/nefertiti_1\n",
      "./common-3d-test-models-master/Patches/nefertiti_2\n",
      "./common-3d-test-models-master/Patches/nefertiti_3\n",
      "./common-3d-test-models-master/Patches/ogre_1\n",
      "./common-3d-test-models-master/Patches/ogre_2\n",
      "./common-3d-test-models-master/Patches/ogre_3\n",
      "./common-3d-test-models-master/Patches/rocker-arm_1\n",
      "./common-3d-test-models-master/Patches/rocker-arm_2\n",
      "./common-3d-test-models-master/Patches/rocker-arm_3\n",
      "./common-3d-test-models-master/Patches/spot_1\n",
      "./common-3d-test-models-master/Patches/spot_2\n",
      "./common-3d-test-models-master/Patches/spot_3\n",
      "./common-3d-test-models-master/Patches/stanford-bunny_1\n",
      "./common-3d-test-models-master/Patches/stanford-bunny_2\n",
      "./common-3d-test-models-master/Patches/stanford-bunny_3\n",
      "./common-3d-test-models-master/Patches/teapot_1\n",
      "./common-3d-test-models-master/Patches/teapot_2\n",
      "./common-3d-test-models-master/Patches/teapot_3\n",
      "./common-3d-test-models-master/Patches/woody_1\n",
      "./common-3d-test-models-master/Patches/woody_2\n",
      "./common-3d-test-models-master/Patches/woody_3\n"
     ]
    }
   ],
   "source": [
    "input_dir = obj_dir + \"/Generated_Noise\"\n",
    "input_files = os.listdir(input_dir)\n",
    "meshes = np.array([Mesh.readFile(f\"{input_dir}/{filename}\") for filename in input_files])\n",
    "\n",
    "os.makedirs(f\"{obj_dir}/Patches\")\n",
    "\n",
    "for idx, mesh in enumerate(meshes):\n",
    "    patch_collector = PatchCollector(noisy_mesh)\n",
    "    save_dir = f\"{obj_dir}/Patches/{input_files[idx][:-4]}\"\n",
    "    print(save_dir)\n",
    "    # patch_collector.collectAndSavePatches(save_dir)"
   ]
  },
  {
   "cell_type": "code",
   "execution_count": null,
   "metadata": {},
   "outputs": [],
   "source": []
  }
 ],
 "metadata": {
  "kernelspec": {
   "display_name": "PCDenoiser",
   "language": "python",
   "name": "python3"
  },
  "language_info": {
   "codemirror_mode": {
    "name": "ipython",
    "version": 3
   },
   "file_extension": ".py",
   "mimetype": "text/x-python",
   "name": "python",
   "nbconvert_exporter": "python",
   "pygments_lexer": "ipython3",
   "version": "3.9.15"
  },
  "orig_nbformat": 4
 },
 "nbformat": 4,
 "nbformat_minor": 2
}
