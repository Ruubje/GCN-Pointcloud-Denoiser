{
 "cells": [
  {
   "attachments": {},
   "cell_type": "markdown",
   "metadata": {},
   "source": [
    "# Vertex Updating\n",
    "This notebook won't use predicted normals to update the vertices to a correct position, but generates noise and tries to update the vertex positions with the ground truth normals to see if the vertex updating method works.\n",
    "\n",
    "First we create a noisy mesh.\n",
    "Then we extract the needed information.\n",
    "Then we create and apply the vertex updating algorithm.\n",
    "Finally, we show what the algorithm does and whether it works."
   ]
  },
  {
   "cell_type": "code",
   "execution_count": 20,
   "metadata": {},
   "outputs": [],
   "source": [
    "from PatchGeneration.Modules.Mesh import Mesh\n",
    "import meshplot as mp\n",
    "import numpy as np\n",
    "import copy\n",
    "import time"
   ]
  },
  {
   "attachments": {},
   "cell_type": "markdown",
   "metadata": {},
   "source": [
    "# Generate noisy mesh"
   ]
  },
  {
   "cell_type": "code",
   "execution_count": 21,
   "metadata": {},
   "outputs": [
    {
     "data": {
      "application/vnd.jupyter.widget-view+json": {
       "model_id": "0496afa65f604474a53e05134e6eea6b",
       "version_major": 2,
       "version_minor": 0
      },
      "text/plain": [
       "Renderer(camera=PerspectiveCamera(children=(DirectionalLight(color='white', intensity=0.6, position=(0.0995235…"
      ]
     },
     "metadata": {},
     "output_type": "display_data"
    },
    {
     "data": {
      "text/plain": [
       "<meshplot.Viewer.Viewer at 0x1e94adfbb20>"
      ]
     },
     "execution_count": 21,
     "metadata": {},
     "output_type": "execute_result"
    }
   ],
   "source": [
    "myMesh = Mesh.readFile(\"PatchGeneration/Object/example_object.obj\")\n",
    "myMesh.applyGaussianNoise(0.3)\n",
    "mp.plot(myMesh.getVertices(), myMesh.f)"
   ]
  },
  {
   "attachments": {},
   "cell_type": "markdown",
   "metadata": {},
   "source": [
    "# Extract information"
   ]
  },
  {
   "cell_type": "code",
   "execution_count": 22,
   "metadata": {},
   "outputs": [],
   "source": [
    "# Iterations of the algorithm\n",
    "k = 15\n",
    "# Original normals of the mesh\n",
    "n = myMesh.getFaceNormals(False)\n",
    "# Vertices\n",
    "v = copy.deepcopy(myMesh.getVertices())\n",
    "v2 = copy.deepcopy(v)\n",
    "v3 = copy.deepcopy(v)\n",
    "# Faces of mesh\n",
    "f = myMesh.f\n",
    "# Vertex Triangle Adjacency\n",
    "vta = myMesh.getVertexTriangleAdjacency()"
   ]
  },
  {
   "attachments": {},
   "cell_type": "markdown",
   "metadata": {},
   "source": [
    "# Algorithm 1"
   ]
  },
  {
   "cell_type": "code",
   "execution_count": 23,
   "metadata": {},
   "outputs": [
    {
     "name": "stdout",
     "output_type": "stream",
     "text": [
      "Loop 1/15\n",
      "Loop 2/15\n",
      "Loop 3/15\n",
      "Loop 4/15\n",
      "Loop 5/15\n",
      "Loop 6/15\n",
      "Loop 7/15\n",
      "Loop 8/15\n",
      "Loop 9/15\n",
      "Loop 10/15\n",
      "Loop 11/15\n",
      "Loop 12/15\n",
      "Loop 13/15\n",
      "Loop 14/15\n",
      "Loop 15/15\n",
      "Algorithm took 61 seconds with an average of 4.1164462248484295 seconds per loop!\n",
      "MSE for vertex distances: 0.15080020748846754\n",
      "MSE for normal angle is 0.049792458959195596\n"
     ]
    }
   ],
   "source": [
    "start = time.time()\n",
    "# Repeat algorithm k times\n",
    "for ki in range(k):\n",
    "    print(f\"Loop {ki+1}/{k}\")\n",
    "    # Loop over vertices\n",
    "    for vi in range(len(v)):\n",
    "        # Loop over faces\n",
    "        faces = vta[0][np.arange(vta[1][vi], vta[1][vi+1])]\n",
    "        S = np.zeros((3,))\n",
    "        for fj in faces:\n",
    "            # Loop over edges\n",
    "            # vks = (3,) = (Vertex indices of face fj)\n",
    "            vks = f[fj]\n",
    "            # dvs = (3, 3) = (Vertex index, Position axis (x, y, z))\n",
    "            dvs = v[vks] - v[vi] # One of these is gonna be vi - vi = 0\n",
    "            # nj = (3,) = (Position axis (x, y, z))\n",
    "            nj = n[fj]\n",
    "            # dot = {nj -> (repeated 3x, nj Position axis) -> sum over axis 1 (position axis that got multiplied)} = dot product of 3 vertices\n",
    "            dot = np.sum(np.tile(nj, (3, 1)) * dvs, axis=1)\n",
    "            # elements are the elements to be summed for this face.\n",
    "            # elements = (dot product of vertex index k, scaled normal vector j)\n",
    "            elements = nj.reshape(3, 1) @ dot.reshape(1, 3)\n",
    "            # Sum 3 results and add it to the total sum (it needs to be summed anyways)\n",
    "            S += np.sum(elements, axis=0)\n",
    "        # Divide sum by number of neighbouring faces and add the resulting offset to the vertex.\n",
    "        scaled_S = S / (3 * len(faces))\n",
    "        v[vi] += scaled_S\n",
    "end = time.time()\n",
    "print(f\"Algorithm took {int(end - start)} seconds with an average of {(end - start)/k} seconds per loop!\")\n",
    "ov = myMesh.getVertices(False)\n",
    "d = ov - v\n",
    "vMSE = np.mean(np.square(np.linalg.norm(d, axis=1)))\n",
    "print(f\"MSE for vertex distances: {vMSE}\")\n",
    "# (f, v, ax)\n",
    "fv = v[f]\n",
    "# (f, ax)\n",
    "crosses = np.cross(fv[:, 1, :] - fv[:, 0, :], fv[:, 2, :] - fv[:, 1, :])\n",
    "# (f, ax)\n",
    "n1 = crosses / np.linalg.norm(crosses, axis=1)[:, None]\n",
    "# (f,)\n",
    "dot_n = np.sum(n1 * n, axis=1)\n",
    "nMSE = 1 - np.mean(np.square(dot_n))\n",
    "print(f\"MSE for normal angle is {nMSE}\")"
   ]
  },
  {
   "attachments": {},
   "cell_type": "markdown",
   "metadata": {},
   "source": [
    "# Algorithm 2"
   ]
  },
  {
   "cell_type": "code",
   "execution_count": 24,
   "metadata": {},
   "outputs": [
    {
     "name": "stdout",
     "output_type": "stream",
     "text": [
      "Loop 1/15\n",
      "Loop 2/15\n",
      "Loop 3/15\n",
      "Loop 4/15\n",
      "Loop 5/15\n",
      "Loop 6/15\n",
      "Loop 7/15\n",
      "Loop 8/15\n",
      "Loop 9/15\n",
      "Loop 10/15\n",
      "Loop 11/15\n",
      "Loop 12/15\n",
      "Loop 13/15\n",
      "Loop 14/15\n",
      "Loop 15/15\n",
      "Algorithm took 15 seconds with an average of 1.0642414887746174 seconds per loop!\n",
      "MSE for vertex distances: 0.042943124576087656\n",
      "MSE for normal angle is 0.0007286887536466224\n"
     ]
    }
   ],
   "source": [
    "start = time.time()\n",
    "# Repeat algorithm k times\n",
    "for ki in range(k):\n",
    "    print(f\"Loop {ki+1}/{k}\")\n",
    "    # Loop over vertices\n",
    "    for vi in range(len(v2)):\n",
    "        # Loop over faces\n",
    "        # (f,)\n",
    "        faces = vta[0][np.arange(vta[1][vi], vta[1][vi+1])]\n",
    "        # Loop over edges\n",
    "        # vks = (f, 3)\n",
    "        vks = f[faces]\n",
    "        # dvs = (f, 3, 3) = (face index, vertex index, axis index)\n",
    "        dvs = v2[vks] - v2[vi] # One of these is gonna be vi - vi = 0\n",
    "        # nj = (f, 3) = (face index, axis index)\n",
    "        nj = n[faces]\n",
    "        # dot = nj -> (f, 3) -> (f, 3, 1) -> (f, 3, 3) -> (face index, empty, axis index) * (face index, vertex index, axis index) -> sum over axis index (axis 2) -> dot product: (face index, vertex index)\n",
    "        dot = np.sum(np.tile(nj[:, None], (1, 3, 1)) * dvs, axis=2)\n",
    "        # elements are the elements to be summed for this face.\n",
    "        # elements = [dot product: (face index, vertex index, empty)] * [normal vector: (face index, empty, axis index)] = (face index, vertex index, axis index)\n",
    "        elements = dot[..., None] * nj[:, None]\n",
    "        S = np.sum(np.sum(elements, axis=0), axis=0)\n",
    "        # Divide sum by number of neighbouring faces and add the resulting offset to the vertex.\n",
    "        scaled_S = S / (3 * len(faces))\n",
    "        v2[vi] += scaled_S\n",
    "end = time.time()\n",
    "print(f\"Algorithm took {int(end - start)} seconds with an average of {(end - start)/k} seconds per loop!\")\n",
    "ov = myMesh.getVertices(False)\n",
    "d = ov - v2\n",
    "vMSE = np.mean(np.square(np.linalg.norm(d, axis=1)))\n",
    "print(f\"MSE for vertex distances: {vMSE}\")\n",
    "# (f, v, ax)\n",
    "fv = v2[f]\n",
    "# (f, ax)\n",
    "crosses = np.cross(fv[:, 1, :] - fv[:, 0, :], fv[:, 2, :] - fv[:, 1, :])\n",
    "# (f, ax)\n",
    "n2 = crosses / np.linalg.norm(crosses, axis=1)[:, None]\n",
    "# (f,)\n",
    "dot_n = np.sum(n2 * n, axis=1)\n",
    "nMSE = 1 - np.mean(np.square(dot_n))\n",
    "print(f\"MSE for normal angle is {nMSE}\")\n"
   ]
  },
  {
   "attachments": {},
   "cell_type": "markdown",
   "metadata": {},
   "source": [
    "# Algorithm 3"
   ]
  },
  {
   "cell_type": "code",
   "execution_count": 25,
   "metadata": {},
   "outputs": [
    {
     "name": "stdout",
     "output_type": "stream",
     "text": [
      "Loop 1/15\n",
      "Loop 2/15\n",
      "Loop 3/15\n",
      "Loop 4/15\n",
      "Loop 5/15\n",
      "Loop 6/15\n",
      "Loop 7/15\n",
      "Loop 8/15\n",
      "Loop 9/15\n",
      "Loop 10/15\n",
      "Loop 11/15\n",
      "Loop 12/15\n",
      "Loop 13/15\n",
      "Loop 14/15\n",
      "Loop 15/15\n",
      "Algorithm took 8 seconds with an average of 0.5907633463541667 seconds per loop!\n",
      "MSE for vertex distances: 0.043037224090930484\n",
      "MSE for normal angle is 0.0009190578806473892\n"
     ]
    }
   ],
   "source": [
    "start = time.time()\n",
    "# Repeat algorithm k times\n",
    "for ki in range(k):\n",
    "    print(f\"Loop {ki+1}/{k}\")\n",
    "    # Loop over vertices\n",
    "    _V = len(v3)\n",
    "    # (vi,)\n",
    "    vis = np.arange(_V)\n",
    "    # Loop over faces\n",
    "    starts = np.delete(vta[1], -1)\n",
    "    stops = np.delete(vta[1], 0)\n",
    "    degrees = stops - starts\n",
    "    MAX_DEGREE = np.max(degrees)\n",
    "    # 1D array of 1D array ranges\n",
    "    ranges = np.frompyfunc(np.arange, 2, 1)(starts, stops)\n",
    "    # ranges (vi, fm) where fm means max degree of all vertices\n",
    "    ranges_padded = np.stack([np.pad(r, (0, MAX_DEGREE - len(r)), 'constant', constant_values=(-1, -1)) for r in ranges])\n",
    "    mask_is_padded = ranges_padded == -1\n",
    "    # faces: (vi, fm)\n",
    "    faces = vta[0][ranges_padded]\n",
    "    # Loop over edges\n",
    "    # vks = (vi, fm, vj)\n",
    "    vks = f[faces]\n",
    "    # dvs = (vi, fm, vj, ax)\n",
    "    dvs = v3[vks] - np.tile(v3[vis][:, None, None, :], (1, MAX_DEGREE, 3, 1)) # One of these is gonna be vi - vi = 0\n",
    "    # nj = (vi, fm, ax)\n",
    "    nj = n[faces]\n",
    "    # dot = (vi, fm, vj) = (vi, fm, empty, ax) * (vi, fm, vj, ax)\n",
    "    dot = np.sum(np.tile(nj[:, :, None, :], (1, 1, 3, 1)) * dvs, axis=3)\n",
    "    # elements are the elements to be summed for this face.\n",
    "    # elements = (vi, fm, vj, ax) = (vi, fm, vj, empty) * (vi, fm, empty, ax)\n",
    "    elements = dot[..., None] * nj[:, :, None]\n",
    "    # Set padded entries back to 0, such that they don't influence vertex positions\n",
    "    elements[mask_is_padded] = 0\n",
    "    # Sum over fm and vj, S = (vi, ax)\n",
    "    S = np.sum(np.sum(elements, axis=1), axis=1)\n",
    "    # Divide sum by number of neighbouring faces and add the resulting offset to the vertex.\n",
    "    # Scaled (vi, ax) = S (vi, ax) / degrees (vi,)\n",
    "    scaled_S = S / (3 * np.tile(degrees[:, None], (1, 3)))\n",
    "    v3 += scaled_S\n",
    "end = time.time()\n",
    "print(f\"Algorithm took {int(end - start)} seconds with an average of {(end - start)/k} seconds per loop!\")\n",
    "ov = myMesh.getVertices(False)\n",
    "d = ov - v3\n",
    "vMSE = np.mean(np.square(np.linalg.norm(d, axis=1)))\n",
    "print(f\"MSE for vertex distances: {vMSE}\")\n",
    "# (f, v, ax)\n",
    "fv = v3[f]\n",
    "# (f, ax)\n",
    "crosses = np.cross(fv[:, 1, :] - fv[:, 0, :], fv[:, 2, :] - fv[:, 1, :])\n",
    "# (f, ax)\n",
    "n3 = crosses / np.linalg.norm(crosses, axis=1)[:, None]\n",
    "# (f,)\n",
    "dot_n = np.sum(n3 * n, axis=1)\n",
    "nMSE = 1 - np.mean(np.square(dot_n))\n",
    "print(f\"MSE for normal angle is {nMSE}\")"
   ]
  },
  {
   "attachments": {},
   "cell_type": "markdown",
   "metadata": {},
   "source": [
    "# Visualize result"
   ]
  },
  {
   "cell_type": "code",
   "execution_count": 26,
   "metadata": {},
   "outputs": [
    {
     "data": {
      "application/vnd.jupyter.widget-view+json": {
       "model_id": "a5052f765ab343ebb682b517bb6c564c",
       "version_major": 2,
       "version_minor": 0
      },
      "text/plain": [
       "Renderer(camera=PerspectiveCamera(children=(DirectionalLight(color='white', intensity=0.6, position=(98.001981…"
      ]
     },
     "metadata": {},
     "output_type": "display_data"
    },
    {
     "data": {
      "text/plain": [
       "<meshplot.Viewer.Viewer at 0x1e94ea57760>"
      ]
     },
     "execution_count": 26,
     "metadata": {},
     "output_type": "execute_result"
    }
   ],
   "source": [
    "v_plot = copy.deepcopy(v)\n",
    "v2_plot = copy.deepcopy(v2)\n",
    "v3_plot = copy.deepcopy(v3)\n",
    "v_plot[:, 0] += myMesh.getPCBoundingBox()[0]\n",
    "v2_plot[:, 0] += 2 * myMesh.getPCBoundingBox()[0]\n",
    "v3_plot[:, 0] += 3 * myMesh.getPCBoundingBox()[0]\n",
    "v_plot = np.append(copy.deepcopy(myMesh.getVertices(True)), v_plot, axis=0)\n",
    "v_plot = np.append(v_plot, v2_plot, axis=0)\n",
    "v_plot = np.append(v_plot, v3_plot, axis=0)\n",
    "f_plot = np.tile(f, (4, 1))\n",
    "f_plot[len(f):2*len(f)] += len(v)\n",
    "f_plot[2*len(f):3*len(f)] += 2*len(v)\n",
    "f_plot[3*len(f):] += 3*len(v)\n",
    "mp.plot(v_plot, f_plot)"
   ]
  },
  {
   "cell_type": "code",
   "execution_count": 27,
   "metadata": {},
   "outputs": [
    {
     "name": "stdout",
     "output_type": "stream",
     "text": [
      "False\n"
     ]
    },
    {
     "data": {
      "application/vnd.jupyter.widget-view+json": {
       "model_id": "8bbcff7bda654ce58f7026993c2b2ff8",
       "version_major": 2,
       "version_minor": 0
      },
      "text/plain": [
       "Renderer(camera=PerspectiveCamera(children=(DirectionalLight(color='white', intensity=0.6, position=(-0.011758…"
      ]
     },
     "metadata": {},
     "output_type": "display_data"
    },
    {
     "data": {
      "text/plain": [
       "<meshplot.Viewer.Viewer at 0x1e94eb21910>"
      ]
     },
     "execution_count": 27,
     "metadata": {},
     "output_type": "execute_result"
    }
   ],
   "source": [
    "print(np.allclose(myMesh.getVertices(False), v2))\n",
    "mp.plot(v2, f)"
   ]
  },
  {
   "cell_type": "code",
   "execution_count": 28,
   "metadata": {},
   "outputs": [
    {
     "name": "stdout",
     "output_type": "stream",
     "text": [
      "2.938901805109901e-06\n"
     ]
    }
   ],
   "source": []
  },
  {
   "cell_type": "code",
   "execution_count": null,
   "metadata": {},
   "outputs": [],
   "source": []
  }
 ],
 "metadata": {
  "kernelspec": {
   "display_name": "PCDenoiser",
   "language": "python",
   "name": "python3"
  },
  "language_info": {
   "codemirror_mode": {
    "name": "ipython",
    "version": 3
   },
   "file_extension": ".py",
   "mimetype": "text/x-python",
   "name": "python",
   "nbconvert_exporter": "python",
   "pygments_lexer": "ipython3",
   "version": "3.9.15"
  },
  "orig_nbformat": 4
 },
 "nbformat": 4,
 "nbformat_minor": 2
}
